{
 "cells": [
  {
   "cell_type": "code",
   "execution_count": 1,
   "id": "762e97bf",
   "metadata": {},
   "outputs": [],
   "source": [
    "import pandas as pd\n",
    "import matplotlib.pyplot as plt"
   ]
  },
  {
   "cell_type": "code",
   "execution_count": 12,
   "id": "39d913bf",
   "metadata": {},
   "outputs": [
    {
     "data": {
      "text/html": [
       "<div>\n",
       "<style scoped>\n",
       "    .dataframe tbody tr th:only-of-type {\n",
       "        vertical-align: middle;\n",
       "    }\n",
       "\n",
       "    .dataframe tbody tr th {\n",
       "        vertical-align: top;\n",
       "    }\n",
       "\n",
       "    .dataframe thead th {\n",
       "        text-align: right;\n",
       "    }\n",
       "</style>\n",
       "<table border=\"1\" class=\"dataframe\">\n",
       "  <thead>\n",
       "    <tr style=\"text-align: right;\">\n",
       "      <th></th>\n",
       "      <th>Shimmer_8665_Timestamp_Unix_CAL</th>\n",
       "      <th>Shimmer_8665_Accel_LN_X_CAL</th>\n",
       "      <th>Shimmer_8665_Accel_LN_Y_CAL</th>\n",
       "      <th>Shimmer_8665_Accel_LN_Z_CAL</th>\n",
       "      <th>Shimmer_8665_Gyro_X_CAL</th>\n",
       "      <th>Shimmer_8665_Gyro_Y_CAL</th>\n",
       "      <th>Shimmer_8665_Gyro_Z_CAL</th>\n",
       "    </tr>\n",
       "  </thead>\n",
       "  <tbody>\n",
       "    <tr>\n",
       "      <th>0</th>\n",
       "      <td>ms</td>\n",
       "      <td>m/(s^2)</td>\n",
       "      <td>m/(s^2)</td>\n",
       "      <td>m/(s^2)</td>\n",
       "      <td>deg/s</td>\n",
       "      <td>deg/s</td>\n",
       "      <td>deg/s</td>\n",
       "    </tr>\n",
       "    <tr>\n",
       "      <th>1</th>\n",
       "      <td>1</td>\n",
       "      <td>1</td>\n",
       "      <td>2</td>\n",
       "      <td>3</td>\n",
       "      <td>1</td>\n",
       "      <td>2</td>\n",
       "      <td>3</td>\n",
       "    </tr>\n",
       "    <tr>\n",
       "      <th>2</th>\n",
       "      <td>2</td>\n",
       "      <td>4</td>\n",
       "      <td>5</td>\n",
       "      <td>6</td>\n",
       "      <td>4</td>\n",
       "      <td>5</td>\n",
       "      <td>6</td>\n",
       "    </tr>\n",
       "  </tbody>\n",
       "</table>\n",
       "</div>"
      ],
      "text/plain": [
       "  Shimmer_8665_Timestamp_Unix_CAL Shimmer_8665_Accel_LN_X_CAL  \\\n",
       "0                              ms                     m/(s^2)   \n",
       "1                               1                           1   \n",
       "2                               2                           4   \n",
       "\n",
       "  Shimmer_8665_Accel_LN_Y_CAL Shimmer_8665_Accel_LN_Z_CAL  \\\n",
       "0                     m/(s^2)                     m/(s^2)   \n",
       "1                           2                           3   \n",
       "2                           5                           6   \n",
       "\n",
       "  Shimmer_8665_Gyro_X_CAL Shimmer_8665_Gyro_Y_CAL Shimmer_8665_Gyro_Z_CAL  \n",
       "0                   deg/s                   deg/s                   deg/s  \n",
       "1                       1                       2                       3  \n",
       "2                       4                       5                       6  "
      ]
     },
     "execution_count": 12,
     "metadata": {},
     "output_type": "execute_result"
    }
   ],
   "source": [
    "data = pd.read_csv(\"sample.csv\")\n",
    "data"
   ]
  },
  {
   "cell_type": "code",
   "execution_count": 13,
   "id": "d8b1b2f3",
   "metadata": {},
   "outputs": [],
   "source": [
    "t = data[\"Shimmer_8665_Timestamp_Unix_CAL\"]\n",
    "a = data[\"Shimmer_8665_Accel_LN_X_CAL\"]\n",
    "g = data[\"Shimmer_8665_Gyro_X_CAL\"]"
   ]
  },
  {
   "cell_type": "code",
   "execution_count": 14,
   "id": "68629160",
   "metadata": {},
   "outputs": [
    {
     "data": {
      "text/plain": [
       "<matplotlib.collections.PathCollection at 0x7dc3130610a0>"
      ]
     },
     "execution_count": 14,
     "metadata": {},
     "output_type": "execute_result"
    },
    {
     "data": {
      "image/png": "[encoded data removed]",
      "text/plain": [
       "<Figure size 640x480 with 1 Axes>"
      ]
     },
     "metadata": {},
     "output_type": "display_data"
    }
   ],
   "source": [
    "plt.scatter(t[1:], a[1:])\n",
    "plt.scatter(t[1:], g[1:])"
   ]
  }
 ],
 "metadata": {
  "kernelspec": {
   "display_name": "surf_24",
   "language": "python",
   "name": "python3"
  },
  "language_info": {
   "codemirror_mode": {
    "name": "ipython",
    "version": 3
   },
   "file_extension": ".py",
   "mimetype": "text/x-python",
   "name": "python",
   "nbconvert_exporter": "python",
   "pygments_lexer": "ipython3",
   "version": "3.12.3"
  }
 },
 "nbformat": 4,
 "nbformat_minor": 5
}
