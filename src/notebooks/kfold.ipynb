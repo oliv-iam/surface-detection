{
 "cells": [
  {
   "cell_type": "code",
   "execution_count": null,
   "id": "5e20d069",
   "metadata": {},
   "outputs": [],
   "source": [
    "import matplotlib.pyplot as plt\n",
    "import numpy as np"
   ]
  },
  {
   "cell_type": "code",
   "execution_count": null,
   "id": "077c2bed",
   "metadata": {},
   "outputs": [],
   "source": [
    "path = \"/mnt/c/Users/olivi/OneDrive - Amherst College/6 Summer 2025/surface-detection/logs/kfold/clean\""
   ]
  },
  {
   "cell_type": "markdown",
   "id": "9e66af0c",
   "metadata": {},
   "source": [
    "##### Average accuracy"
   ]
  },
  {
   "cell_type": "code",
   "execution_count": null,
   "id": "761cc479",
   "metadata": {},
   "outputs": [],
   "source": [
    "model = \"exlstm60\"\n",
    "channels = \"6\" \n",
    "\n",
    "arr = np.loadtxt(f\"{path}/{model}_k10_{channels}zscore50.txt\", delimiter=\",\")\n",
    "np.mean(arr)"
   ]
  },
  {
   "cell_type": "markdown",
   "id": "b8ee1b62",
   "metadata": {},
   "source": [
    "##### Scatterplot: accuracy vs. learnable parameters / avg training time"
   ]
  },
  {
   "cell_type": "code",
   "execution_count": null,
   "id": "5a7ce4db",
   "metadata": {},
   "outputs": [],
   "source": [
    "def scatterplot(x, xlabel, models, accuracy):\n",
    "    plt.scatter(x, accuracy, marker='x')\n",
    "    plt.xlabel(xlabel)\n",
    "    plt.xscale(\"log\")\n",
    "    plt.ylabel(\"Average Accuracy\")\n",
    "    plt.title(\"Accuracy vs. Complexity\")\n",
    "    for i, txt in enumerate(models):\n",
    "        plt.annotate(txt, (x[i], accuracy[i]))\n",
    "    plt.show()"
   ]
  },
  {
   "cell_type": "code",
   "execution_count": null,
   "id": "b7fd1ddc",
   "metadata": {},
   "outputs": [],
   "source": [
    "models = [\"excnn\", \"resnet1\", \"resnet2\", \"alexnet\", \"vggnet\", \"attention\", \"exlstm60\"]\n",
    "# accuracy = [0.62542, 0.8464, 0.81444, 0.74623, 0.73096, 0.77607, 0.69155] # 2 channels\n",
    "# params = [11173, 26933, 26933, 540437, 22176133, 19365, 30845]\n",
    "# time = [0, 30.18638, 24.76924, 20.2037, 254.3841, 44.4685, 146.5882]\n",
    "accuracy = [0.92933, 0.93874, 0.93622, 0.89504, 0.88307, 0.9169, 0.91862] # 6 channels\n",
    "params = [11813, 27125, 27125, 573253, 22176645, 19557, 32765]\n",
    "time = [0, 29.64571, 26.32817, 20.40423, 244.4325, 34.29429, 162.5065]\n",
    "\n",
    "scatterplot(params, \"Number of Learnable Parameters\", models, accuracy)\n",
    "scatterplot(time, \"Average Training Time (10 Folds)\", models, accuracy)"
   ]
  },
  {
   "cell_type": "markdown",
   "id": "9db81720",
   "metadata": {},
   "source": [
    "##### Violin plot: accuracy vs. user"
   ]
  },
  {
   "cell_type": "code",
   "execution_count": null,
   "id": "193002df",
   "metadata": {},
   "outputs": [],
   "source": [
    "model = \"excnn\"\n",
    "channels = \"\" "
   ]
  },
  {
   "cell_type": "code",
   "execution_count": null,
   "id": "88a9dd17",
   "metadata": {},
   "outputs": [],
   "source": [
    "data = np.loadtxt(f\"{path}/{model}_k10_{channels}zscore50.txt\", delimiter=\",\")\n",
    "data = data.T\n",
    "plt.violinplot(data, showmeans=True)\n",
    "plt.title(f\"Accuracy by User ({model.capitalize()})\")\n",
    "plt.xlabel(\"User\")\n",
    "plt.ylabel(\"Accuracy\")\n",
    "plt.show()"
   ]
  },
  {
   "cell_type": "markdown",
   "id": "e5030cdb",
   "metadata": {},
   "source": [
    "##### Line plot 1: accuracy vs. user"
   ]
  },
  {
   "cell_type": "code",
   "execution_count": null,
   "id": "71d99bb8",
   "metadata": {},
   "outputs": [],
   "source": [
    "models = [\"excnn\", \"resnet1\", \"resnet2\", \"alexnet\", \"vggnet\", \"attention\", \"exlstm60\"]\n",
    "channels = \"6\" "
   ]
  },
  {
   "cell_type": "code",
   "execution_count": null,
   "id": "e193d75f",
   "metadata": {},
   "outputs": [],
   "source": [
    "plt.figure(figsize=(6,8))\n",
    "x = [i for i in range(1, 6)]\n",
    "for mod in models:\n",
    "    data = np.loadtxt(f\"{path}/{mod}_k10_{channels}zscore50.txt\", delimiter=\",\")\n",
    "    y = np.mean(data, axis=1)\n",
    "    ye = np.std(data, axis=1)\n",
    "\n",
    "    plt.plot(x, y, label=mod)\n",
    "    plt.fill_between(x, y-ye, y+ye, alpha=0.1)\n",
    "\n",
    "plt.xticks(x)\n",
    "plt.xlabel(\"User\")\n",
    "plt.ylabel(\"Accuracy\")\n",
    "plt.title(\"Accuracy by User\")\n",
    "plt.legend()\n",
    "plt.show()"
   ]
  },
  {
   "cell_type": "markdown",
   "id": "1bdbe1be",
   "metadata": {},
   "source": [
    "##### Line plot 2: accuracy vs. fold"
   ]
  },
  {
   "cell_type": "code",
   "execution_count": null,
   "id": "3a933dad",
   "metadata": {},
   "outputs": [],
   "source": [
    "models = [\"excnn\", \"resnet1\", \"resnet2\", \"alexnet\", \"vggnet\", \"attention\", \"exlstm60\"]\n",
    "channels = \"6\" "
   ]
  },
  {
   "cell_type": "code",
   "execution_count": null,
   "id": "04422a36",
   "metadata": {},
   "outputs": [],
   "source": [
    "plt.figure(figsize=(6,8))\n",
    "x = [i for i in range(1, 11)]\n",
    "for mod in models:\n",
    "    data = np.loadtxt(f\"{path}/{mod}_k10_{channels}zscore50.txt\", delimiter=\",\")\n",
    "    y = np.mean(data, axis=0)\n",
    "    ye = np.std(data, axis=0)\n",
    "\n",
    "    plt.plot(x, y, label=mod)\n",
    "    plt.fill_between(x, y-ye, y+ye, alpha=0.2)\n",
    "\n",
    "plt.xticks(x)\n",
    "plt.xlabel(\"Fold\")\n",
    "plt.ylabel(\"Accuracy\")\n",
    "plt.title(\"Accuracy by Fold\")\n",
    "plt.legend()\n",
    "plt.show()"
   ]
  }
 ],
 "metadata": {
  "kernelspec": {
   "display_name": "surf_24",
   "language": "python",
   "name": "python3"
  },
  "language_info": {
   "codemirror_mode": {
    "name": "ipython",
    "version": 3
   },
   "file_extension": ".py",
   "mimetype": "text/x-python",
   "name": "python",
   "nbconvert_exporter": "python",
   "pygments_lexer": "ipython3",
   "version": "3.12.3"
  }
 },
 "nbformat": 4,
 "nbformat_minor": 5
}
