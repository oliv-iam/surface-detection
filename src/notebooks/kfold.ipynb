{
 "cells": [
  {
   "cell_type": "code",
   "execution_count": 2,
   "id": "5e20d069",
   "metadata": {},
   "outputs": [],
   "source": [
    "import matplotlib.pyplot as plt\n",
    "import numpy as np"
   ]
  },
  {
   "cell_type": "code",
   "execution_count": null,
   "id": "077c2bed",
   "metadata": {},
   "outputs": [],
   "source": [
    "path = \"/mnt/c/Users/olivi/OneDrive - Amherst College/6 Summer 2025/surface-detection/logs/kfold/clean\""
   ]
  },
  {
   "cell_type": "code",
   "execution_count": 1,
   "id": "11291cd7",
   "metadata": {},
   "outputs": [],
   "source": [
    "path = \"/mnt/c/Users/olivi/OneDrive - Amherst College/6 Summer 2025/surface-detection/logs/scratch/clean\""
   ]
  },
  {
   "cell_type": "markdown",
   "id": "9e66af0c",
   "metadata": {},
   "source": [
    "##### Average accuracy"
   ]
  },
  {
   "cell_type": "code",
   "execution_count": null,
   "id": "5cc6f523",
   "metadata": {},
   "outputs": [],
   "source": [
    "def avg_accuracy(model, channels, group, data):\n",
    "    if data:\n",
    "        arr = np.loadtxt(f\"{path}/{group}/{model}.txt\", delimiter=\",\")\n",
    "    else:\n",
    "        arr = np.loadtxt(f\"{path}/{group}/{model}_k10_{channels}zscore50.txt\", delimiter=\",\")\n",
    "    return np.mean(arr)"
   ]
  },
  {
   "cell_type": "code",
   "execution_count": null,
   "id": "761cc479",
   "metadata": {},
   "outputs": [],
   "source": [
    "model = \"exlstm60\"\n",
    "channels = \"6\" \n",
    "group = 1\n",
    "\n",
    "avg_accuracy(model, channels, group)"
   ]
  },
  {
   "cell_type": "code",
   "execution_count": null,
   "id": "58649a42",
   "metadata": {},
   "outputs": [],
   "source": [
    "def avg_accuracy(group, name):\n",
    "    arr = np.loadtxt(f\"{path}/{group}/scratch_{group}_acc_{name}.txt\")\n",
    "    return np.mean(arr)"
   ]
  },
  {
   "cell_type": "markdown",
   "id": "b8ee1b62",
   "metadata": {},
   "source": [
    "##### Scatterplot: accuracy vs. learnable parameters / avg training time"
   ]
  },
  {
   "cell_type": "code",
   "execution_count": null,
   "id": "5a7ce4db",
   "metadata": {},
   "outputs": [],
   "source": [
    "def scatterplot(x, xlabel, models, channels, group, data):\n",
    "    accuracy = [0 for i in range(len(models))]\n",
    "    for i, model in enumerate(models):\n",
    "        accuracy[i] = avg_accuracy(model, channels, group, data)\n",
    "\n",
    "    plt.scatter(x, accuracy, marker='x')\n",
    "    # plt.axhline(0.815, linestyle=\"--\")\n",
    "    plt.xlabel(xlabel)\n",
    "    # plt.xscale(\"log\")\n",
    "    plt.ylabel(\"Average Accuracy\")\n",
    "    plt.title(\"Accuracy vs. Complexity\")\n",
    "    for i, txt in enumerate(models):\n",
    "        plt.annotate(txt, (x[i], accuracy[i]))\n",
    "    plt.show()"
   ]
  },
  {
   "cell_type": "code",
   "execution_count": null,
   "id": "b7fd1ddc",
   "metadata": {},
   "outputs": [],
   "source": [
    "# group = 1\n",
    "# models = [\"excnn\", \"resnet1\", \"resnet2\", \"alexnet\", \"vggnet\", \"attention\", \"exlstm60\"]\n",
    "# params = [11173, 26933, 26933, 540437, 22176133, 19365, 30845] # 2 channels\n",
    "# time = [0, 30.18638, 24.76924, 20.2037, 254.3841, 44.4685, 146.5882]\n",
    "# params = [11813, 27125, 27125, 573253, 22176645, 19557, 32765] # 6 channels\n",
    "# time = [0, 29.64571, 26.32817, 20.40423, 244.4325, 34.29429, 162.5065]\n",
    "\n",
    "# group = 2\n",
    "# models = [\"exlstm60\", \"bilstm\", \"twobilstm\", \"attbilstm\", \"hybrid\"]\n",
    "# params = [30845, 67865, 66785, 59945, 76709]\n",
    "# time = [0, 224.146, 223.722, 178.658, 187.826]\n",
    "\n",
    "# group = \"ppt1\"\n",
    "# models = [\"maya\", \"resnet1\", \"bilstm\", \"hybrid\"]\n",
    "# params = [151429, 26933, 67865, 76709]\n",
    "# time = [43.0784, 30.1864, 224.146, 187.826]\n",
    "\n",
    "# group = \"augment2\"\n",
    "# models = [\"none\", \"oversample\", \"noise\", \"scale\", \"magwarp\", \"timewarp\"]\n",
    "# time = [59.35284, 96.93538, 97.3456, 96.54792, 95.83762, 94.22566]\n",
    "\n",
    "group = \"augment6\"\n",
    "models = [\"sequence\", \"image\", \"stacked\"]\n",
    "time = [62.4998, 90.22104, 90.10304]\n",
    "\n",
    "# scatterplot(params, \"Number of Learnable Parameters\", models, \"\", group)\n",
    "scatterplot(time, \"Average Training Time (10 Folds)\", models, \"\", group, True)"
   ]
  },
  {
   "cell_type": "code",
   "execution_count": null,
   "id": "1beb2033",
   "metadata": {},
   "outputs": [],
   "source": [
    "names = [\"50x4x1\", \"50x6x1\", \"50x8x1\", \"50x10x1\"]\n",
    "times = [537.31044, 714.66502, 959.55944, 1069.67648]\n",
    "accs = [0.8181, 0.8031, 0.8011, 0.7861]"
   ]
  },
  {
   "cell_type": "code",
   "execution_count": null,
   "id": "18bb9ff6",
   "metadata": {},
   "outputs": [],
   "source": [
    "names = [\"50x2\", \"50x4x1\", \"50x4 80%\", \"50x4 norm\", \"50x2 norm\"]\n",
    "times = [28.15224, 63.41498, 140.99172, 63.18286, 27.37416]\n",
    "accs = [0.8223, 0.8181, 0.8251, 0.9009, 0.8851]"
   ]
  },
  {
   "cell_type": "code",
   "execution_count": null,
   "id": "a2c9b9de",
   "metadata": {},
   "outputs": [],
   "source": [
    "plt.scatter(times, accs, marker='x')\n",
    "plt.axhline(0.815, linestyle=\"--\")\n",
    "plt.xlabel(\"Average Time (Training + Testing)\")\n",
    "plt.ylabel(\"Average Accuracy\")\n",
    "for i, txt in enumerate(names):\n",
    "    plt.annotate(txt, (times[i], accs[i]))\n",
    "plt.show()"
   ]
  },
  {
   "cell_type": "markdown",
   "id": "9db81720",
   "metadata": {},
   "source": [
    "##### Violin plot 1: accuracy vs. user"
   ]
  },
  {
   "cell_type": "code",
   "execution_count": null,
   "id": "193002df",
   "metadata": {},
   "outputs": [],
   "source": [
    "model = \"excnn\"\n",
    "channels = \"\" "
   ]
  },
  {
   "cell_type": "code",
   "execution_count": null,
   "id": "88a9dd17",
   "metadata": {},
   "outputs": [],
   "source": [
    "data = np.loadtxt(f\"{path}{group}/{model}_k10_{channels}zscore50.txt\", delimiter=\",\")\n",
    "data = data.T\n",
    "plt.violinplot(data, showmeans=True)\n",
    "plt.title(f\"Accuracy by User ({model.capitalize()})\")\n",
    "plt.xlabel(\"User\")\n",
    "plt.ylabel(\"Accuracy\")\n",
    "plt.show()"
   ]
  },
  {
   "cell_type": "markdown",
   "id": "0984570d",
   "metadata": {},
   "source": [
    "##### Violin plot 2: accuracy (average over user) vs. data"
   ]
  },
  {
   "cell_type": "code",
   "execution_count": null,
   "id": "0fad4452",
   "metadata": {},
   "outputs": [],
   "source": [
    "filenames = [\"augment2/none_05\", \"augment2/oversample_05\", \"augment6/stacked\"]\n",
    "# one column per filename\n",
    "# one row per fold (data: average over users)\n",
    "arr = np.zeros((len(filenames), 10))\n",
    "for i, file in enumerate(filenames):\n",
    "    dat = np.loadtxt(f\"{path}/{file}.txt\", delimiter=\",\")\n",
    "    arr[i] = np.mean(dat, axis=0)\n",
    "plt.violinplot(arr.T, showmeans=True)\n",
    "plt.xlabel(\"Composed, Oversampled, Stacked\")\n",
    "plt.ylabel(\"Accuracy\")\n",
    "plt.show()"
   ]
  },
  {
   "cell_type": "code",
   "execution_count": 15,
   "id": "9b611618",
   "metadata": {},
   "outputs": [
    {
     "data": {
      "image/png": "[encoded data removed]",
      "text/plain": [
       "<Figure size 640x480 with 1 Axes>"
      ]
     },
     "metadata": {},
     "output_type": "display_data"
    }
   ],
   "source": [
    "file = \"maya/maya2d_acc_ver2\"\n",
    "raw = np.loadtxt(f\"{path}/{file}_raw.txt\", delimiter=\",\")\n",
    "norm = np.loadtxt(f\"{path}/{file}.txt\", delimiter=\",\")\n",
    "\n",
    "arr = np.zeros((2, 10))\n",
    "arr[0] = np.mean(raw, axis=0)\n",
    "arr[1] = np.mean(norm, axis=0)\n",
    "\n",
    "plt.violinplot(arr.T, showmeans=True)\n",
    "plt.ylabel(\"Average Accuracy (Over Users)\")\n",
    "plt.xticks([1,2], [\"Raw\", \"Normalized\"])\n",
    "plt.title(\"Model Accuracy on Raw vs. Normalized Datasets\")\n",
    "plt.show()"
   ]
  },
  {
   "cell_type": "markdown",
   "id": "e5030cdb",
   "metadata": {},
   "source": [
    "##### Line plot 1: accuracy vs. user"
   ]
  },
  {
   "cell_type": "code",
   "execution_count": null,
   "id": "71d99bb8",
   "metadata": {},
   "outputs": [],
   "source": [
    "# models = [\"excnn\", \"resnet1\", \"resnet2\", \"alexnet\", \"vggnet\", \"attention\", \"exlstm60\"]\n",
    "# channels = \"6\" \n",
    "# group = 1\n",
    "\n",
    "# models = [\"exlstm60\", \"bilstm\", \"twobilstm\", \"attbilstm\", \"hybrid\"]\n",
    "# channels = \"\"\n",
    "# group = 2\n",
    "\n",
    "group = \"ppt1\"\n",
    "channels = \"\"\n",
    "models = [\"maya\", \"resnet1\", \"bilstm\", \"hybrid\"]"
   ]
  },
  {
   "cell_type": "code",
   "execution_count": null,
   "id": "e193d75f",
   "metadata": {},
   "outputs": [],
   "source": [
    "plt.figure(figsize=(6,8))\n",
    "x = [i for i in range(1, 6)]\n",
    "for mod in models:\n",
    "    data = np.loadtxt(f\"{path}/{group}/{mod}_k10_{channels}zscore50.txt\", delimiter=\",\")\n",
    "    y = np.mean(data, axis=1)\n",
    "    ye = np.std(data, axis=1)\n",
    "\n",
    "    plt.plot(x, y, label=mod)\n",
    "    plt.fill_between(x, y-ye, y+ye, alpha=0.1)\n",
    "\n",
    "plt.xticks(x)\n",
    "plt.xlabel(\"User\")\n",
    "plt.ylabel(\"Accuracy\")\n",
    "plt.title(\"Accuracy by User\")\n",
    "plt.legend()\n",
    "plt.show()"
   ]
  },
  {
   "cell_type": "code",
   "execution_count": null,
   "id": "8ebf440d",
   "metadata": {},
   "outputs": [],
   "source": [
    "labels = [\"50x2\", \"50x4x1\", \"50x2 norm\", \"50x4x1 norm\"]\n",
    "paths = [\"stacks\", \"stacks\", \"norm\", \"norm\"]\n",
    "names = [\"50x2\", \"50x4x1\", \"50x2\", \"sample\"]"
   ]
  },
  {
   "cell_type": "code",
   "execution_count": null,
   "id": "a4ec4327",
   "metadata": {},
   "outputs": [],
   "source": [
    "plt.figure(figsize=(6,8))\n",
    "x = [i for i in range(1, 11)]\n",
    "for i, name in enumerate(names):\n",
    "    data = np.loadtxt(f\"{path}/{paths[i]}/scratch_{paths[i]}_acc_{name}.txt\", delimiter=\",\")\n",
    "    y = np.mean(data, axis=0)\n",
    "    ye = np.std(data, axis=0)\n",
    "\n",
    "    plt.plot(x, y, label=labels[i])\n",
    "    plt.fill_between(x, y-ye, y+ye, alpha=0.2)\n",
    "\n",
    "plt.axhline(0.815, linestyle=\"--\", color=\"black\")\n",
    "plt.xticks(x)\n",
    "plt.xlabel(\"Fold\")\n",
    "plt.ylabel(\"Accuracy\")\n",
    "plt.title(\"Accuracy by Fold\")\n",
    "plt.legend()\n",
    "plt.show()"
   ]
  },
  {
   "cell_type": "code",
   "execution_count": null,
   "id": "e2133fb9",
   "metadata": {},
   "outputs": [],
   "source": [
    "plt.figure(figsize=(6,8))\n",
    "x = [i for i in range(1,6)]\n",
    "for i, name in enumerate(names):\n",
    "    data = np.loadtxt(f\"{path}/{paths[i]}/scratch_{paths[i]}_acc_{name}.txt\", delimiter=\",\")\n",
    "    y = np.mean(data, axis=1)\n",
    "    ye = np.std(data, axis=1)\n",
    "    plt.plot(x, y, label=labels[i])\n",
    "    plt.fill_between(x, y-ye, y+ye, alpha=0.1)\n",
    "\n",
    "plt.xticks(x)\n",
    "plt.xlabel(\"User\")\n",
    "plt.ylabel(\"Accuracy\")\n",
    "plt.title(\"Accuracy by User\")\n",
    "plt.legend()\n",
    "plt.show()"
   ]
  },
  {
   "cell_type": "markdown",
   "id": "1bdbe1be",
   "metadata": {},
   "source": [
    "##### Line plot 2: accuracy vs. fold"
   ]
  },
  {
   "cell_type": "code",
   "execution_count": null,
   "id": "3a933dad",
   "metadata": {},
   "outputs": [],
   "source": [
    "# models = [\"excnn\", \"resnet1\", \"resnet2\", \"alexnet\", \"vggnet\", \"attention\", \"exlstm60\"]\n",
    "# channels = \"6\" \n",
    "# group = 1\n",
    "\n",
    "# models = [\"exlstm60\", \"bilstm\", \"twobilstm\", \"attbilstm\", \"hybrid\"]\n",
    "# channels = \"\"\n",
    "# group = 2\n",
    "\n",
    "group = \"ppt1\"\n",
    "channels = \"\"\n",
    "models = [\"maya\", \"resnet1\", \"bilstm\", \"hybrid\"]"
   ]
  },
  {
   "cell_type": "code",
   "execution_count": null,
   "id": "04422a36",
   "metadata": {},
   "outputs": [],
   "source": [
    "plt.figure(figsize=(6,8))\n",
    "x = [i for i in range(1, 11)]\n",
    "for mod in models:\n",
    "    data = np.loadtxt(f\"{path}/{group}/{mod}_k10_{channels}zscore50.txt\", delimiter=\",\")\n",
    "    y = np.mean(data, axis=0)\n",
    "    ye = np.std(data, axis=0)\n",
    "\n",
    "    plt.plot(x, y, label=mod)\n",
    "    plt.fill_between(x, y-ye, y+ye, alpha=0.2)\n",
    "\n",
    "plt.xticks(x)\n",
    "plt.xlabel(\"Fold\")\n",
    "plt.ylabel(\"Accuracy\")\n",
    "plt.title(\"Accuracy by Fold\")\n",
    "plt.legend()\n",
    "plt.show()"
   ]
  },
  {
   "cell_type": "markdown",
   "id": "9d29f1dc",
   "metadata": {},
   "source": [
    "##### Confusion"
   ]
  },
  {
   "cell_type": "code",
   "execution_count": 5,
   "id": "696ae314",
   "metadata": {},
   "outputs": [],
   "source": [
    "import pandas as pd\n",
    "import sklearn\n",
    "name = \"scratch_weights_testpreds_best\""
   ]
  },
  {
   "cell_type": "code",
   "execution_count": 6,
   "id": "0d854990",
   "metadata": {},
   "outputs": [
    {
     "data": {
      "image/png": "[encoded data removed]",
      "text/plain": [
       "<Figure size 640x480 with 2 Axes>"
      ]
     },
     "metadata": {},
     "output_type": "display_data"
    }
   ],
   "source": [
    "test = pd.read_csv(f\"{path}/{name}.txt\", header=None)\n",
    "sklearn.metrics.ConfusionMatrixDisplay.from_predictions(test[0], test[1], cmap='BuPu', display_labels=['A', 'B', 'C', 'D', 'E'], normalize='true')\n",
    "plt.xlabel(\"Predicted location\")\n",
    "plt.ylabel(\"True location\")\n",
    "plt.show()"
   ]
  },
  {
   "cell_type": "markdown",
   "id": "aa23e08e",
   "metadata": {},
   "source": [
    "##### Class Weightings"
   ]
  },
  {
   "cell_type": "code",
   "execution_count": null,
   "id": "7f048e31",
   "metadata": {},
   "outputs": [],
   "source": [
    "import pandas as pd\n",
    "import sklearn\n",
    "name = \"scratch_norm_testpreds_sample\""
   ]
  },
  {
   "cell_type": "code",
   "execution_count": null,
   "id": "a601a727",
   "metadata": {},
   "outputs": [],
   "source": [
    "test = pd.read_csv(f\"{path}/{name}.txt\", header=None)\n",
    "cm = sklearn.metrics.confusion_matrix(test[0], test[1])\n",
    "\n",
    "tp = np.diag(cm) # true positives\n",
    "n = cm.sum(axis=1) # samples per class\n",
    "error = 1 - (tp / n) # error per class\n",
    "\n",
    "weights = error / error.sum()\n",
    "weights = weights * len(weights)\n",
    "\n",
    "w1, w2, w3, w4, w5 = weights\n",
    "print(f\"[{w1:.4f}, {w2:.4f}, {w3:.4f}, {w4:.4f}, {w5:.4f}]\")"
   ]
  }
 ],
 "metadata": {
  "kernelspec": {
   "display_name": "surf_24",
   "language": "python",
   "name": "python3"
  },
  "language_info": {
   "codemirror_mode": {
    "name": "ipython",
    "version": 3
   },
   "file_extension": ".py",
   "mimetype": "text/x-python",
   "name": "python",
   "nbconvert_exporter": "python",
   "pygments_lexer": "ipython3",
   "version": "3.12.3"
  }
 },
 "nbformat": 4,
 "nbformat_minor": 5
}
