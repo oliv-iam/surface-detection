{
 "cells": [
  {
   "cell_type": "code",
   "execution_count": null,
   "id": "762e97bf",
   "metadata": {},
   "outputs": [],
   "source": [
    "import matplotlib.pyplot as plt\n",
    "import numpy as np\n",
    "import pandas as pd\n",
    "import sklearn"
   ]
  },
  {
   "cell_type": "code",
   "execution_count": null,
   "id": "a5449e5e",
   "metadata": {},
   "outputs": [],
   "source": [
    "path = \"/mnt/c/Users/olivi/OneDrive - Amherst College/6 Summer 2025/surface-detection\""
   ]
  },
  {
   "cell_type": "markdown",
   "id": "8e6380b4",
   "metadata": {},
   "source": [
    "##### 128x2 Variable Threshold Sequence Dataset"
   ]
  },
  {
   "cell_type": "code",
   "execution_count": null,
   "id": "6d47a283",
   "metadata": {},
   "outputs": [],
   "source": [
    "thresholds = [\n",
    "    [25, 26, 27, 28, 28],\n",
    "    [21, 17, 21, 20, 21],\n",
    "    [19, 14, 22, 25, 25],\n",
    "    [25, 22, 27, 24, 27],\n",
    "    [24, 22, 24, 26, 25]\n",
    "]\n",
    "\n",
    "s1_counts = [\n",
    "    [156, 145, 154, 160, 142], # User 1\n",
    "    [149, 130, 156, 136, 120], # User 2\n",
    "    [142, 103, 142, 152, 137], # User 3\n",
    "    [145, 144, 159, 149, 142], # User 4\n",
    "    [137, 138, 136, 124, 134]  # User 5\n",
    "]\n",
    "\n",
    "locations = [\"A\", \"B\", \"C\", \"D\", \"E\"]\n",
    "labels = [\"User 1\", \"User 2\", \"User 3\", \"User 4\", \"User 5\"]"
   ]
  },
  {
   "cell_type": "code",
   "execution_count": null,
   "id": "a33c3ae5",
   "metadata": {},
   "outputs": [],
   "source": [
    "s2_counts = [\n",
    "    [156, 147, 154, 160, 143], # User 1\n",
    "    [158, 125, 155, 137, 122],\n",
    "    [147, 100, 145, 153, 140],\n",
    "    [150, 153, 161, 150, 148],\n",
    "    [149, 143, 147, 157, 140]\n",
    "]\n",
    "s5_counts = [\n",
    "    [161, 167, 154, 166, 154],\n",
    "    [151, 148, 156, 142, 130],\n",
    "    [146, 116, 142, 159, 148],\n",
    "    [145, 161, 159, 152, 167],\n",
    "    [144, 155, 136, 128, 148]\n",
    "]\n",
    "s6_counts = [\n",
    "    [142, 145, 144, 151, 138],\n",
    "    [135, 130, 135, 122, 118],\n",
    "    [131, 103, 131, 140, 134],\n",
    "    [129, 144, 131, 141, 139],\n",
    "    [123, 138, 119, 106, 131]\n",
    "]"
   ]
  },
  {
   "cell_type": "code",
   "execution_count": null,
   "id": "4ae02916",
   "metadata": {},
   "outputs": [],
   "source": [
    "def dataset_barplot(split, title=\"\"):\n",
    "    colors = plt.get_cmap('Set2').colors\n",
    "\n",
    "    split = np.array(split)\n",
    "    x = np.arange(5)\n",
    "\n",
    "    fig, ax = plt.subplots()\n",
    "    bottom = np.zeros(5)\n",
    "    for i, row in enumerate(split):\n",
    "        ax.bar(x, row, bottom=bottom, label=labels[i], color = colors[i])\n",
    "        bottom += row \n",
    "\n",
    "    ax.set_xticks(x)\n",
    "    ax.set_xticklabels(locations)\n",
    "    ax.set_xlabel(\"Location\")\n",
    "    ax.set_ylabel(\"Number of Sequences\")\n",
    "\n",
    "    # ax.legend(loc=\"upper center\", bbox_to_anchor=(0.5, 1.12), ncol=5)\n",
    "    pos = ax.get_position()\n",
    "    ax.set_position([pos.x0, pos.y0, pos.width * 0.9, pos.height])\n",
    "    ax.legend(loc='center right', bbox_to_anchor=(1.25, 0.5))\n",
    "    \n",
    "    plt.title(title)\n",
    "    plt.show()"
   ]
  },
  {
   "cell_type": "code",
   "execution_count": null,
   "id": "f39a1820",
   "metadata": {},
   "outputs": [],
   "source": [
    "# counts: stacked barplot\n",
    "dataset_barplot(s6_counts)\n",
    "\n",
    "# thresholds: line plot\n",
    "colors = plt.get_cmap('Set3').colors\n",
    "for i in range(5):\n",
    "    plt.plot(locations, thresholds[i], label=labels[i], color = colors[i])\n",
    "plt.legend()\n",
    "plt.xlabel(\"Location\")\n",
    "plt.ylabel(\"Peak Acceleration Threshold\")\n",
    "plt.show()"
   ]
  },
  {
   "cell_type": "markdown",
   "id": "e02fe8b2",
   "metadata": {},
   "source": [
    "##### Single sequence (normalized)"
   ]
  },
  {
   "cell_type": "code",
   "execution_count": null,
   "id": "cea08225",
   "metadata": {},
   "outputs": [],
   "source": [
    "def sequence_norm(user=1, location=\"A\", instance=1):\n",
    "    A1 = pd.read_csv(f\"{path}/sequences/varied-threshold/User{user}_Location{location}_Normal_{instance}.dat\", header=None)\n",
    "    plt.plot(list(range(1, 129)), A1[0] / A1[0].max(), label='acceleration')\n",
    "    plt.plot(list(range(1, 129)), A1[1] / A1[1].max(), color='red', label=\"Gyroscope\")\n",
    "    plt.title(\"Normalized Accelerometer, Gyroscope for Sequence\")\n",
    "    plt.legend()\n",
    "    plt.show()\n",
    "\n",
    "sequence_norm()"
   ]
  },
  {
   "cell_type": "markdown",
   "id": "408c2f78",
   "metadata": {},
   "source": [
    "##### Dataset split visualization"
   ]
  },
  {
   "cell_type": "code",
   "execution_count": null,
   "id": "8e19b29c",
   "metadata": {},
   "outputs": [],
   "source": [
    "# load dataset partitions, filenames\n",
    "lines = []\n",
    "with open(f\"{path}/sequences/set2_filenames.txt\", 'r') as filenames:\n",
    "    lines = filenames.readlines()"
   ]
  },
  {
   "cell_type": "code",
   "execution_count": null,
   "id": "a6079278",
   "metadata": {},
   "outputs": [],
   "source": [
    "def split_barplot(filepath, title):\n",
    "    indices = []\n",
    "    with open(filepath) as f:\n",
    "        indices = f.readlines()\n",
    "    counts = [[0 for i in range(0, 5)] for j in range(0, 5)] # initialize to zeros\n",
    "    for i in indices:\n",
    "        user = 0\n",
    "        match lines[int(i.strip())-1].split('_')[0]:\n",
    "            case \"User1\" : user = 0\n",
    "            case \"User2\" : user = 1\n",
    "            case \"User3\" : user = 2\n",
    "            case \"User4\" : user = 3\n",
    "            case \"User5\" : user = 4\n",
    "        match lines[int(i.strip())-1].split('_')[1]:\n",
    "            case \"LocationA\" : counts[user][0] += 1\n",
    "            case \"LocationB\" : counts[user][1] += 1\n",
    "            case \"LocationC\" : counts[user][2] += 1\n",
    "            case \"LocationD\" : counts[user][3] += 1\n",
    "            case \"LocationE\" : counts[user][4] += 1\n",
    "    dataset_barplot(counts, title)"
   ]
  },
  {
   "cell_type": "code",
   "execution_count": null,
   "id": "f4d17191",
   "metadata": {},
   "outputs": [],
   "source": [
    "split_barplot(f\"{path}/logs/dataset-info/set2_train.txt\", \"Training Set\")\n",
    "# split_barplot(f\"{path}/logs/dataset-info/u5out_val.txt\", \"Validation Set\")\n",
    "split_barplot(f\"{path}/logs/dataset-info/set2_test.txt\", \"Test Set\")"
   ]
  },
  {
   "cell_type": "markdown",
   "id": "334ef9da",
   "metadata": {},
   "source": [
    "##### Violin plot"
   ]
  },
  {
   "cell_type": "code",
   "execution_count": null,
   "id": "c0c5b8a5",
   "metadata": {},
   "outputs": [],
   "source": [
    "sets = [\"set1\", \"set2\", \"set3\", \"set4\", \"set5\", \"set6\"]\n",
    "datasets = [\"train\", \"test\"]"
   ]
  },
  {
   "cell_type": "code",
   "execution_count": null,
   "id": "f089507e",
   "metadata": {},
   "outputs": [],
   "source": [
    "def violin1(set):\n",
    "    arr = np.zeros((10,2))\n",
    "    for i in range(len(datasets)):\n",
    "        for j in range(10):\n",
    "            preds = pd.read_csv(f\"{path}/logs/set-results/{set}_{datasets[i]}_{j+1}.txt\")\n",
    "            confusion = sklearn.metrics.confusion_matrix(preds[\"True\"], preds[\"Predicted\"])\n",
    "            arr[j,i] = np.trace(confusion) / np.sum(confusion)\n",
    "    plt.violinplot(arr, showmedians=True)\n",
    "    plt.title(f\"Accuracy over 10 Trials ({set.capitalize()})\")\n",
    "    plt.ylabel(\"Accuracy\")\n",
    "    plt.xlabel(\"Dataset (Train, Test = 1, 2)\")\n",
    "    plt.savefig(f\"{path}/figures/set-results/{set}_violin.png\")\n",
    "    plt.show()"
   ]
  },
  {
   "cell_type": "code",
   "execution_count": null,
   "id": "b117a448",
   "metadata": {},
   "outputs": [],
   "source": [
    "def violin2():\n",
    "    arr1 = np.zeros((10, len(sets)))\n",
    "    arr2 = np.zeros((10,len(sets)))\n",
    "    for i in range(len(sets)):\n",
    "        for j in range(10):\n",
    "            # training set\n",
    "            preds1 = pd.read_csv(f\"{path}/logs/set-results/{sets[i]}_train_{j+1}.txt\")\n",
    "            confusion1 = sklearn.metrics.confusion_matrix(preds1[\"True\"], preds1[\"Predicted\"])\n",
    "            arr1[j,i] = np.trace(confusion1) / np.sum(confusion1)\n",
    "\n",
    "            # test set\n",
    "            preds2 = pd.read_csv(f\"{path}/logs/set-results/{sets[i]}_test_{j+1}.txt\")\n",
    "            confusion2 = sklearn.metrics.confusion_matrix(preds2[\"True\"], preds2[\"Predicted\"])\n",
    "            arr2[j,i] = np.trace(confusion2) / np.sum(confusion2)\n",
    "\n",
    "    fig, (ax1, ax2) = plt.subplots(1, 2, figsize=(8, 4), sharey=True)\n",
    "    \n",
    "    plots1 = ax1.violinplot(arr1, showmedians=True)\n",
    "    # plots1['bodies'][-1].set_facecolor(\"purple\")\n",
    "    ax1.set_title(\"Training Set\", fontsize=10)\n",
    "    ax1.set_xlabel(\"Dataset Version\")\n",
    "    ax1.set_xlabel(\"Dataset Version\")\n",
    "    ax1.set_ylabel(\"Accuracy\")\n",
    "\n",
    "    plots2 = ax2.violinplot(arr2, showmedians=True)\n",
    "    # plots2['bodies'][-1].set_facecolor(\"purple\")\n",
    "    ax2.set_title(\"Test Set\", fontsize=10)\n",
    "    ax2.set_xlabel(\"Dataset Version\")\n",
    "\n",
    "    plt.suptitle(\"2 Channels (1) vs. 6 Channels (2)\")\n",
    "\n",
    "    # plt.title(f\"Accuracy over 10 Trials\")\n",
    "    # plt.savefig(f\"{path}/figures/set-results/{set}_violin.png\")\n",
    "    plt.show()"
   ]
  },
  {
   "cell_type": "code",
   "execution_count": null,
   "id": "df2d433c",
   "metadata": {},
   "outputs": [],
   "source": [
    "violin1(\"set9\")"
   ]
  },
  {
   "cell_type": "code",
   "execution_count": null,
   "id": "26cc33f0",
   "metadata": {},
   "outputs": [],
   "source": [
    "# sets = [\"set1\", \"set4\", \"set5\", \"set7\"]\n",
    "sets = [\"set1\", \"set9\"]\n",
    "# sets = [\"set1\", \"set7\", \"set9\"]\n",
    "violin2()"
   ]
  }
 ],
 "metadata": {
  "kernelspec": {
   "display_name": "surf_24",
   "language": "python",
   "name": "python3"
  },
  "language_info": {
   "codemirror_mode": {
    "name": "ipython",
    "version": 3
   },
   "file_extension": ".py",
   "mimetype": "text/x-python",
   "name": "python",
   "nbconvert_exporter": "python",
   "pygments_lexer": "ipython3",
   "version": "3.12.3"
  }
 },
 "nbformat": 4,
 "nbformat_minor": 5
}
