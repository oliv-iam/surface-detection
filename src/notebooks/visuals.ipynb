{
 "cells": [
  {
   "cell_type": "code",
   "execution_count": null,
   "id": "762e97bf",
   "metadata": {},
   "outputs": [],
   "source": [
    "import matplotlib.pyplot as plt\n",
    "import numpy as np\n",
    "import pandas as pd\n",
    "import sklearn"
   ]
  },
  {
   "cell_type": "markdown",
   "id": "8e6380b4",
   "metadata": {},
   "source": [
    "##### 128x2 Variable Threshold Sequence Dataset"
   ]
  },
  {
   "cell_type": "code",
   "execution_count": null,
   "id": "6d47a283",
   "metadata": {},
   "outputs": [],
   "source": [
    "thresholds = [\n",
    "    [25, 26, 27, 28, 28],\n",
    "    [21, 17, 21, 20, 21],\n",
    "    [19, 14, 22, 25, 25],\n",
    "    [25, 22, 27, 24, 27],\n",
    "    [24, 22, 24, 26, 25]\n",
    "]\n",
    "\n",
    "counts = [\n",
    "    [156, 145, 154, 160, 142],\n",
    "    [149, 130, 156, 136, 120],\n",
    "    [142, 103, 142, 152, 137],\n",
    "    [145, 144, 159, 149, 142],\n",
    "    [137, 138, 136, 124, 134]\n",
    "]\n",
    "\n",
    "locations = [\"A\", \"B\", \"C\", \"D\", \"E\"]"
   ]
  },
  {
   "cell_type": "code",
   "execution_count": null,
   "id": "f39a1820",
   "metadata": {},
   "outputs": [],
   "source": [
    "labels = [\"User 1\", \"User 2\", \"User 3\", \"User 4\", \"User 5\"]\n",
    "colors = plt.get_cmap('Set3').colors\n",
    "\n",
    "counts = np.array(counts)\n",
    "x = np.arange(5)\n",
    "\n",
    "# counts: stacked barplot\n",
    "fig, ax = plt.subplots()\n",
    "bottom = np.zeros(5)\n",
    "for i, row in enumerate(counts):\n",
    "    ax.bar(x, row, bottom=bottom, label=labels[i], color = colors[i])\n",
    "    bottom += row \n",
    "\n",
    "ax.set_xticks(x)\n",
    "ax.set_xticklabels(locations)\n",
    "ax.set_xlabel(\"Location\")\n",
    "ax.set_ylabel(\"Number of Sequences\")\n",
    "ax.legend(loc=\"upper center\", bbox_to_anchor=(0.5, 1.12), ncol=5)\n",
    "plt.show()\n",
    "\n",
    "# thresholds: line plot\n",
    "\n",
    "for i in range(5):\n",
    "    plt.plot(locations, thresholds[i], label=labels[i], color = colors[i])\n",
    "plt.legend()\n",
    "plt.xlabel(\"Location\")\n",
    "plt.ylabel(\"Peak Acceleration Threshold\")\n",
    "plt.show()"
   ]
  },
  {
   "cell_type": "markdown",
   "id": "e02fe8b2",
   "metadata": {},
   "source": [
    "##### Single sequence (normalized)"
   ]
  },
  {
   "cell_type": "code",
   "execution_count": null,
   "id": "cea08225",
   "metadata": {},
   "outputs": [],
   "source": [
    "def sequence_norm(user=1, location=\"A\", instance=1):\n",
    "    A1 = pd.read_csv(f\"/mnt/c/Users/olivi/OneDrive - Amherst College/6 Summer 2025/surface-detection/sequences/varied-threshold/User{user}_Location{location}_Normal_{instance}.dat\", header=None)\n",
    "    plt.plot(list(range(1, 129)), A1[0] / A1[0].max(), label='acceleration')\n",
    "    plt.plot(list(range(1, 129)), A1[1] / A1[1].max(), color='red', label=\"Gyroscope\")\n",
    "    plt.title(\"Normalized Accelerometer, Gyroscope for Sequence\")\n",
    "    plt.legend()\n",
    "    plt.show()\n",
    "\n",
    "sequence_norm()"
   ]
  },
  {
   "cell_type": "markdown",
   "id": "6f12dd00",
   "metadata": {},
   "source": [
    "##### Confusion heatmap"
   ]
  },
  {
   "cell_type": "code",
   "execution_count": null,
   "id": "66077ef8",
   "metadata": {},
   "outputs": [],
   "source": [
    "nn = \"ver3\"\n",
    "train = pd.read_csv(f\"/mnt/c/Users/olivi/OneDrive - Amherst College/6 Summer 2025/surface-detection/logs/{nn}_accuracy_train.txt\")\n",
    "val = pd.read_csv(f\"/mnt/c/Users/olivi/OneDrive - Amherst College/6 Summer 2025/surface-detection/logs/{nn}_accuracy_val.txt\")\n",
    "test = pd.read_csv(f\"/mnt/c/Users/olivi/OneDrive - Amherst College/6 Summer 2025/surface-detection/logs/{nn}_accuracy_test.txt\")"
   ]
  },
  {
   "cell_type": "code",
   "execution_count": null,
   "id": "6d989d4e",
   "metadata": {},
   "outputs": [],
   "source": [
    "# confusion matrix heatmap, normalized over true (rows)\n",
    "def confusion_heatmap(set=train, netname=\"Ver3\", setname=\"Training\"):\n",
    "    sklearn.metrics.ConfusionMatrixDisplay.from_predictions(set[\"True\"], set[\"Predicted\"], \n",
    "                                                            cmap='cividis', \n",
    "                                                            display_labels=[\"A\", \"B\", \"C\", \"D\", \"E\"],\n",
    "                                                            normalize=\"true\")\n",
    "    plt.xlabel(\"Predicted location\")\n",
    "    plt.ylabel(\"True location\")\n",
    "    plt.title(f\"{netname} Predictions on {setname} set\")\n",
    "    plt.show()"
   ]
  },
  {
   "cell_type": "code",
   "execution_count": null,
   "id": "59e41cdf",
   "metadata": {},
   "outputs": [],
   "source": [
    "confusion_heatmap(train, \"Ver3\", \"Training\")\n",
    "confusion_heatmap(val, \"Ver3\", \"Validation\")\n",
    "confusion_heatmap(test, \"Ver3\", \"Test\")"
   ]
  }
 ],
 "metadata": {
  "kernelspec": {
   "display_name": "surf_24",
   "language": "python",
   "name": "python3"
  },
  "language_info": {
   "codemirror_mode": {
    "name": "ipython",
    "version": 3
   },
   "file_extension": ".py",
   "mimetype": "text/x-python",
   "name": "python",
   "nbconvert_exporter": "python",
   "pygments_lexer": "ipython3",
   "version": "3.12.3"
  }
 },
 "nbformat": 4,
 "nbformat_minor": 5
}
