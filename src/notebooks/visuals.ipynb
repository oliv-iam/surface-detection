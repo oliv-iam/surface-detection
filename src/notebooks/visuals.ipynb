{
 "cells": [
  {
   "cell_type": "code",
   "execution_count": 1,
   "id": "762e97bf",
   "metadata": {},
   "outputs": [],
   "source": [
    "import matplotlib.pyplot as plt\n",
    "import numpy as np\n",
    "import pandas as pd\n",
    "import sklearn"
   ]
  },
  {
   "cell_type": "code",
   "execution_count": null,
   "id": "a5449e5e",
   "metadata": {},
   "outputs": [],
   "source": [
    "path = \"/mnt/c/Users/olivi/OneDrive - Amherst College/6 Summer 2025/surface-detection\""
   ]
  },
  {
   "cell_type": "markdown",
   "id": "8e6380b4",
   "metadata": {},
   "source": [
    "##### 128x2 Variable Threshold Sequence Dataset"
   ]
  },
  {
   "cell_type": "code",
   "execution_count": null,
   "id": "6d47a283",
   "metadata": {},
   "outputs": [],
   "source": [
    "thresholds = [\n",
    "    [25, 26, 27, 28, 28],\n",
    "    [21, 17, 21, 20, 21],\n",
    "    [19, 14, 22, 25, 25],\n",
    "    [25, 22, 27, 24, 27],\n",
    "    [24, 22, 24, 26, 25]\n",
    "]\n",
    "\n",
    "counts = [\n",
    "    [156, 145, 154, 160, 142], # User 1\n",
    "    [149, 130, 156, 136, 120], # User 2\n",
    "    [142, 103, 142, 152, 137], # User 3\n",
    "    [145, 144, 159, 149, 142], # User 4\n",
    "    [137, 138, 136, 124, 134]  # User 5\n",
    "]\n",
    "\n",
    "locations = [\"A\", \"B\", \"C\", \"D\", \"E\"]\n",
    "labels = [\"User 1\", \"User 2\", \"User 3\", \"User 4\", \"User 5\"]"
   ]
  },
  {
   "cell_type": "code",
   "execution_count": null,
   "id": "4ae02916",
   "metadata": {},
   "outputs": [],
   "source": [
    "def dataset_barplot(split, title=\"\"):\n",
    "    colors = plt.get_cmap('Set3').colors\n",
    "\n",
    "    split = np.array(split)\n",
    "    x = np.arange(5)\n",
    "\n",
    "    fig, ax = plt.subplots()\n",
    "    bottom = np.zeros(5)\n",
    "    for i, row in enumerate(split):\n",
    "        ax.bar(x, row, bottom=bottom, label=labels[i], color = colors[i])\n",
    "        bottom += row \n",
    "\n",
    "    ax.set_xticks(x)\n",
    "    ax.set_xticklabels(locations)\n",
    "    ax.set_xlabel(\"Location\")\n",
    "    ax.set_ylabel(\"Number of Sequences\")\n",
    "\n",
    "    # ax.legend(loc=\"upper center\", bbox_to_anchor=(0.5, 1.12), ncol=5)\n",
    "    pos = ax.get_position()\n",
    "    ax.set_position([pos.x0, pos.y0, pos.width * 0.9, pos.height])\n",
    "    ax.legend(loc='center right', bbox_to_anchor=(1.25, 0.5))\n",
    "    \n",
    "    plt.title(title)\n",
    "    plt.show()"
   ]
  },
  {
   "cell_type": "code",
   "execution_count": null,
   "id": "f39a1820",
   "metadata": {},
   "outputs": [],
   "source": [
    "# counts: stacked barplot\n",
    "dataset_barplot(counts)\n",
    "\n",
    "# thresholds: line plot\n",
    "colors = plt.get_cmap('Set3').colors\n",
    "for i in range(5):\n",
    "    plt.plot(locations, thresholds[i], label=labels[i], color = colors[i])\n",
    "plt.legend()\n",
    "plt.xlabel(\"Location\")\n",
    "plt.ylabel(\"Peak Acceleration Threshold\")\n",
    "plt.show()"
   ]
  },
  {
   "cell_type": "markdown",
   "id": "e02fe8b2",
   "metadata": {},
   "source": [
    "##### Single sequence (normalized)"
   ]
  },
  {
   "cell_type": "code",
   "execution_count": null,
   "id": "cea08225",
   "metadata": {},
   "outputs": [],
   "source": [
    "def sequence_norm(user=1, location=\"A\", instance=1):\n",
    "    A1 = pd.read_csv(f\"{path}/sequences/varied-threshold/User{user}_Location{location}_Normal_{instance}.dat\", header=None)\n",
    "    plt.plot(list(range(1, 129)), A1[0] / A1[0].max(), label='acceleration')\n",
    "    plt.plot(list(range(1, 129)), A1[1] / A1[1].max(), color='red', label=\"Gyroscope\")\n",
    "    plt.title(\"Normalized Accelerometer, Gyroscope for Sequence\")\n",
    "    plt.legend()\n",
    "    plt.show()\n",
    "\n",
    "sequence_norm()"
   ]
  },
  {
   "cell_type": "markdown",
   "id": "408c2f78",
   "metadata": {},
   "source": [
    "##### Dataset split visualization"
   ]
  },
  {
   "cell_type": "code",
   "execution_count": null,
   "id": "8e19b29c",
   "metadata": {},
   "outputs": [],
   "source": [
    "# load dataset partitions, filenames\n",
    "lines = []\n",
    "with open(f\"{path}/sequences/filenames.txt\", 'r') as filenames:\n",
    "    lines = filenames.readlines()"
   ]
  },
  {
   "cell_type": "code",
   "execution_count": null,
   "id": "a6079278",
   "metadata": {},
   "outputs": [],
   "source": [
    "def split_barplot(filepath, title):\n",
    "    indices = []\n",
    "    with open(filepath) as f:\n",
    "        indices = f.readlines()\n",
    "    counts = [[0 for i in range(0, 5)] for j in range(0, 5)] # initialize to zeros\n",
    "    for i in indices:\n",
    "        user = 0\n",
    "        match lines[int(i.strip())-1].split('_')[0]:\n",
    "            case \"User1\" : user = 0\n",
    "            case \"User2\" : user = 1\n",
    "            case \"User3\" : user = 2\n",
    "            case \"User4\" : user = 3\n",
    "            case \"User5\" : user = 4\n",
    "        match lines[int(i.strip())-1].split('_')[1]:\n",
    "            case \"LocationA\" : counts[user][0] += 1\n",
    "            case \"LocationB\" : counts[user][1] += 1\n",
    "            case \"LocationC\" : counts[user][2] += 1\n",
    "            case \"LocationD\" : counts[user][3] += 1\n",
    "            case \"LocationE\" : counts[user][4] += 1\n",
    "    dataset_barplot(counts, title)"
   ]
  },
  {
   "cell_type": "code",
   "execution_count": null,
   "id": "f4d17191",
   "metadata": {},
   "outputs": [],
   "source": [
    "split_barplot(f\"{path}/logs/ver2_dataset_train_2.txt\", \"Training Set\")\n",
    "split_barplot(f\"{path}/logs/ver2_dataset_val_2.txt\", \"Validation Set\")\n",
    "split_barplot(f\"{path}/logs/ver2_dataset_test_2.txt\", \"Test Set\")"
   ]
  },
  {
   "cell_type": "markdown",
   "id": "6f12dd00",
   "metadata": {},
   "source": [
    "##### Confusion heatmap"
   ]
  },
  {
   "cell_type": "code",
   "execution_count": null,
   "id": "66077ef8",
   "metadata": {},
   "outputs": [],
   "source": [
    "nn = \"ver2\"\n",
    "train = pd.read_csv(f\"{path}/logs/{nn}_accuracy_train_2.txt\")\n",
    "val = pd.read_csv(f\"{path}/logs/{nn}_accuracy_val_2.txt\")\n",
    "test = pd.read_csv(f\"{path}/logs/{nn}_accuracy_test_2.txt\")"
   ]
  },
  {
   "cell_type": "code",
   "execution_count": null,
   "id": "6d989d4e",
   "metadata": {},
   "outputs": [],
   "source": [
    "# confusion matrix heatmap, normalized over true (rows)\n",
    "def confusion_heatmap(set=train, netname=\"Ver3\", setname=\"Training\"):\n",
    "    sklearn.metrics.ConfusionMatrixDisplay.from_predictions(set[\"True\"], set[\"Predicted\"], \n",
    "                                                            cmap='cividis', \n",
    "                                                            display_labels=[\"A\", \"B\", \"C\", \"D\", \"E\"],\n",
    "                                                            normalize=\"true\")\n",
    "    plt.xlabel(\"Predicted location\")\n",
    "    plt.ylabel(\"True location\")\n",
    "    plt.title(f\"{netname} Predictions on {setname} set\")\n",
    "    plt.show()"
   ]
  },
  {
   "cell_type": "code",
   "execution_count": null,
   "id": "59e41cdf",
   "metadata": {},
   "outputs": [],
   "source": [
    "confusion_heatmap(train, \"Ver2\", \"Training\")\n",
    "confusion_heatmap(val, \"Ver2\", \"Validation\")\n",
    "confusion_heatmap(test, \"Ver2\", \"Test\")"
   ]
  },
  {
   "cell_type": "code",
   "execution_count": 11,
   "id": "36d87e9c",
   "metadata": {},
   "outputs": [],
   "source": [
    "A = pd.read_csv(\"training.csv\")\n",
    "B = pd.read_csv(\"validation.csv\")"
   ]
  },
  {
   "cell_type": "code",
   "execution_count": 12,
   "id": "eb983266",
   "metadata": {},
   "outputs": [
    {
     "data": {
      "text/html": [
       "<div>\n",
       "<style scoped>\n",
       "    .dataframe tbody tr th:only-of-type {\n",
       "        vertical-align: middle;\n",
       "    }\n",
       "\n",
       "    .dataframe tbody tr th {\n",
       "        vertical-align: top;\n",
       "    }\n",
       "\n",
       "    .dataframe thead th {\n",
       "        text-align: right;\n",
       "    }\n",
       "</style>\n",
       "<table border=\"1\" class=\"dataframe\">\n",
       "  <thead>\n",
       "    <tr style=\"text-align: right;\">\n",
       "      <th></th>\n",
       "      <th>Iteration</th>\n",
       "      <th>Loss</th>\n",
       "      <th>Accuracy</th>\n",
       "    </tr>\n",
       "  </thead>\n",
       "  <tbody>\n",
       "    <tr>\n",
       "      <th>0</th>\n",
       "      <td>0</td>\n",
       "      <td>1.612886</td>\n",
       "      <td>18.644068</td>\n",
       "    </tr>\n",
       "    <tr>\n",
       "      <th>1</th>\n",
       "      <td>50</td>\n",
       "      <td>1.611152</td>\n",
       "      <td>18.644068</td>\n",
       "    </tr>\n",
       "    <tr>\n",
       "      <th>2</th>\n",
       "      <td>100</td>\n",
       "      <td>1.608375</td>\n",
       "      <td>21.186441</td>\n",
       "    </tr>\n",
       "    <tr>\n",
       "      <th>3</th>\n",
       "      <td>150</td>\n",
       "      <td>1.609562</td>\n",
       "      <td>20.338984</td>\n",
       "    </tr>\n",
       "    <tr>\n",
       "      <th>4</th>\n",
       "      <td>200</td>\n",
       "      <td>1.609044</td>\n",
       "      <td>20.621469</td>\n",
       "    </tr>\n",
       "    <tr>\n",
       "      <th>...</th>\n",
       "      <td>...</td>\n",
       "      <td>...</td>\n",
       "      <td>...</td>\n",
       "    </tr>\n",
       "    <tr>\n",
       "      <th>72</th>\n",
       "      <td>3600</td>\n",
       "      <td>1.608359</td>\n",
       "      <td>21.186441</td>\n",
       "    </tr>\n",
       "    <tr>\n",
       "      <th>73</th>\n",
       "      <td>3650</td>\n",
       "      <td>1.608400</td>\n",
       "      <td>21.186441</td>\n",
       "    </tr>\n",
       "    <tr>\n",
       "      <th>74</th>\n",
       "      <td>3700</td>\n",
       "      <td>1.608384</td>\n",
       "      <td>21.186441</td>\n",
       "    </tr>\n",
       "    <tr>\n",
       "      <th>75</th>\n",
       "      <td>3750</td>\n",
       "      <td>1.608355</td>\n",
       "      <td>21.186441</td>\n",
       "    </tr>\n",
       "    <tr>\n",
       "      <th>76</th>\n",
       "      <td>3760</td>\n",
       "      <td>1.608346</td>\n",
       "      <td>21.186441</td>\n",
       "    </tr>\n",
       "  </tbody>\n",
       "</table>\n",
       "<p>77 rows × 3 columns</p>\n",
       "</div>"
      ],
      "text/plain": [
       "    Iteration      Loss   Accuracy\n",
       "0           0  1.612886  18.644068\n",
       "1          50  1.611152  18.644068\n",
       "2         100  1.608375  21.186441\n",
       "3         150  1.609562  20.338984\n",
       "4         200  1.609044  20.621469\n",
       "..        ...       ...        ...\n",
       "72       3600  1.608359  21.186441\n",
       "73       3650  1.608400  21.186441\n",
       "74       3700  1.608384  21.186441\n",
       "75       3750  1.608355  21.186441\n",
       "76       3760  1.608346  21.186441\n",
       "\n",
       "[77 rows x 3 columns]"
      ]
     },
     "execution_count": 12,
     "metadata": {},
     "output_type": "execute_result"
    }
   ],
   "source": [
    "B"
   ]
  },
  {
   "cell_type": "code",
   "execution_count": 14,
   "id": "dd644b98",
   "metadata": {},
   "outputs": [
    {
     "data": {
      "text/plain": [
       "[<matplotlib.lines.Line2D at 0x7ec700060cb0>]"
      ]
     },
     "execution_count": 14,
     "metadata": {},
     "output_type": "execute_result"
    },
    {
     "data": {
      "image/png": "[encoded data removed]",
      "text/plain": [
       "<Figure size 640x480 with 1 Axes>"
      ]
     },
     "metadata": {},
     "output_type": "display_data"
    }
   ],
   "source": [
    "plt.plot(B[\"Iteration\"], B[\"Accuracy\"])"
   ]
  }
 ],
 "metadata": {
  "kernelspec": {
   "display_name": "surf_24",
   "language": "python",
   "name": "python3"
  },
  "language_info": {
   "codemirror_mode": {
    "name": "ipython",
    "version": 3
   },
   "file_extension": ".py",
   "mimetype": "text/x-python",
   "name": "python",
   "nbconvert_exporter": "python",
   "pygments_lexer": "ipython3",
   "version": "3.12.3"
  }
 },
 "nbformat": 4,
 "nbformat_minor": 5
}
